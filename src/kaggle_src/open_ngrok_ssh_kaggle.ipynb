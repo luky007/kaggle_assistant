{
 "cells": [
  {
   "cell_type": "markdown",
   "metadata": {},
   "source": [
    "# Open ssh tunnel on Kaggle\n",
    "\n",
    "This code will:\n",
    "- Install and configure a ssh server running on port 22\n",
    "- Download and run ngrok for exposing that port"
   ]
  },
  {
   "cell_type": "markdown",
   "metadata": {},
   "source": [
    "## Install and configure ssh"
   ]
  },
  {
   "cell_type": "code",
   "execution_count": null,
   "metadata": {},
   "outputs": [],
   "source": [
    "!sudo apt-get install openssh-server -y\n",
    "\n",
    "!grep -q \"^PermitRootLogin\" /etc/ssh/sshd_config || echo \"PermitRootLogin yes\" >> /etc/ssh/sshd_config\n",
    "!grep -q \"^PasswordAuthentication\" /etc/ssh/sshd_config || echo \"PasswordAuthentication yes\" >> /etc/ssh/sshd_config\n",
    "!grep -q \"^Compression \" /etc/ssh/sshd_config || echo \"Compression  yes\" >> /etc/ssh/sshd_config\n",
    "!grep -q \"^Ciphers\" /etc/ssh/sshd_config || echo \"Ciphers aes128-ctr,aes192-ctr,aes256-ctr\" >> /etc/ssh/sshd_config\n",
    "!grep -q \"^TCPKeepAlive\" /etc/ssh/sshd_config || echo \"TCPKeepAlive yes\" >> /etc/ssh/sshd_config\n",
    "!grep -q \"^X11Forwarding\" /etc/ssh/sshd_config || echo  \"X11Forwarding yes\" >> /etc/ssh/sshd_config\n",
    "!grep -q \"^Protocol\" /etc/ssh/sshd_config || echo \"Protocol 2\" >> /etc/ssh/sshd_config\n",
    "!grep -q \"^PrintLastLog\" /etc/ssh/sshd_config || echo \"PrintLastLog yes\" >> /etc/ssh/sshd_config\n",
    "!grep -q \"^AcceptEnv\" /etc/ssh/sshd_config || echo \"AcceptEnv LANG LC_*\" >> /etc/ssh/sshd_config\n",
    "\n",
    "!echo \"LD_LIBRARY_PATH=$LD_LIBRARY_PATH\" >> /root/.bashrc\n",
    "!echo \"export LD_LIBRARY_PATH\" >> /root/.bashrc\n",
    "\n",
    "password = \"__kaggle_password_placeholder__\" # <--- generated at random\n",
    "!echo root:$password | chpasswd\n",
    "\n",
    "!sudo service ssh restart"
   ]
  },
  {
   "cell_type": "markdown",
   "metadata": {},
   "source": [
    "## Install ngrok"
   ]
  },
  {
   "cell_type": "code",
   "execution_count": null,
   "metadata": {},
   "outputs": [],
   "source": [
    "!wget https://bin.equinox.io/c/bNyj1mQVY4c/ngrok-v3-stable-linux-amd64.tgz\n",
    "!sudo tar xvzf ngrok-v3-stable-linux-amd64.tgz -C /usr/local/bin\n",
    "!rm ngrok-v3-stable-linux-amd64.tgz\n",
    "!ngrok config add-authtoken __ngrok_token_placeholder__ # <--- replaced during runtime"
   ]
  },
  {
   "cell_type": "markdown",
   "metadata": {},
   "source": [
    "## Start ngrok\n",
    "\n",
    "Open ssh tunnel using Ngrok. Print the random assigned domain when finished. Delete the ngrok binary as a attempt to avoid ban"
   ]
  },
  {
   "cell_type": "code",
   "execution_count": null,
   "metadata": {},
   "outputs": [],
   "source": [
    "import shlex\n",
    "from subprocess import PIPE, Popen\n",
    "import os\n",
    "import requests\n",
    "import re\n",
    "import time\n",
    "\n",
    "\n",
    "def get_tunnel_config():\n",
    "    output = requests.get(\"http://localhost:4040/api/tunnels\").json()\n",
    "    public_url = output[\"tunnels\"][0][\"public_url\"]\n",
    "    groups = re.match(r\"(.*?)://(.*?):(\\d+)\", public_url)\n",
    "    protocol = groups.group(1)\n",
    "    domain = groups.group(2)\n",
    "    port = groups.group(3)\n",
    "    return {\n",
    "        \"domain\": domain,\n",
    "        \"protocol\": protocol,\n",
    "        \"port\": port\n",
    "    }\n",
    "\n",
    "\n",
    "os.system(\"pkill -f 'ngrok'\")\n",
    "proc = Popen(shlex.split(f\"ngrok tcp 22 --region eu\"), stdout=PIPE)\n",
    "time.sleep(5)\n",
    "\n",
    "try:\n",
    "    info = get_tunnel_config()\n",
    "except:\n",
    "    raise Exception(\n",
    "        \"It looks like something went wrong, please make sure your token is valid\")\n",
    "\n",
    "proc.stdout.close()\n",
    "print(f\"Running on: {info['domain']}:{info['port']}\")\n",
    "time.sleep(20)\n",
    "os.system(\"rm -f /usr/local/bin/ngrok\")"
   ]
  }
 ],
 "metadata": {
  "language_info": {
   "name": "python"
  }
 },
 "nbformat": 4,
 "nbformat_minor": 2
}
