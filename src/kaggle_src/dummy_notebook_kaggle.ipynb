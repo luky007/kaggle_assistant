{
 "cells": [
  {
   "cell_type": "markdown",
   "metadata": {},
   "source": [
    "## Put this cell into kaggle\n",
    "\n",
    "For starting it is required to have a kaggle notebook with a dummy code. Also remember to allow the internet access, a SMS verification is required for the very first time.\n"
   ]
  },
  {
   "cell_type": "code",
   "execution_count": null,
   "metadata": {},
   "outputs": [],
   "source": [
    "!command -v sysbench &> /dev/null || (sudo apt update -y && sudo apt install sysbench -y)\n",
    "!sysbench memory --memory-total-size=64M --memory-oper=write run"
   ]
  }
 ],
 "metadata": {
  "language_info": {
   "name": "python"
  }
 },
 "nbformat": 4,
 "nbformat_minor": 2
}
